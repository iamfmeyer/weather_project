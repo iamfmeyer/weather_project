{
 "cells": [
  {
   "cell_type": "code",
   "execution_count": 1,
   "metadata": {},
   "outputs": [],
   "source": [
    "import pandas as pd\n",
    "from pyspark.sql import SparkSession"
   ]
  },
  {
   "cell_type": "code",
   "execution_count": 4,
   "metadata": {},
   "outputs": [
    {
     "name": "stderr",
     "output_type": "stream",
     "text": [
      "your 131072x1 screen size is bogus. expect trouble\n",
      "24/02/10 16:20:16 WARN Utils: Your hostname, Zenbook-FM resolves to a loopback address: 127.0.1.1; using 172.24.189.251 instead (on interface eth0)\n",
      "24/02/10 16:20:16 WARN Utils: Set SPARK_LOCAL_IP if you need to bind to another address\n",
      "Setting default log level to \"WARN\".\n",
      "To adjust logging level use sc.setLogLevel(newLevel). For SparkR, use setLogLevel(newLevel).\n",
      "24/02/10 16:20:18 WARN NativeCodeLoader: Unable to load native-hadoop library for your platform... using builtin-java classes where applicable\n"
     ]
    }
   ],
   "source": [
    "# df = pd.read_parquet(\"../src/landing/data/\")\n",
    "# read parquet files from a directory\n",
    "spark = SparkSession.builder.getOrCreate()\n",
    "df = spark.read.parquet(\"../src/landing/data/\")"
   ]
  },
  {
   "cell_type": "code",
   "execution_count": 5,
   "metadata": {},
   "outputs": [
    {
     "name": "stdout",
     "output_type": "stream",
     "text": [
      "root\n",
      " |-- _timestamp: string (nullable = true)\n",
      " |-- city: string (nullable = true)\n",
      " |-- country: string (nullable = true)\n",
      " |-- weather_description: string (nullable = true)\n",
      " |-- temperature_celsius: double (nullable = true)\n",
      " |-- humidity: long (nullable = true)\n",
      " |-- wind_speed: double (nullable = true)\n",
      " |-- lat: double (nullable = true)\n",
      " |-- long: double (nullable = true)\n",
      "\n"
     ]
    }
   ],
   "source": [
    "df.printSchema()"
   ]
  },
  {
   "cell_type": "code",
   "execution_count": 14,
   "metadata": {},
   "outputs": [
    {
     "name": "stdout",
     "output_type": "stream",
     "text": [
      "+-------------------+---------+-------+-------------------+-------------------+--------+----------+-------+--------+\n",
      "|         _timestamp|     city|country|weather_description|temperature_celsius|humidity|wind_speed|    lat|    long|\n",
      "+-------------------+---------+-------+-------------------+-------------------+--------+----------+-------+--------+\n",
      "|2024-02-10_15-28-04|   Berlin|     DE|      broken clouds|              12.67|      91|      1.79|52.5244| 13.4105|\n",
      "|2024-02-10_15-28-04|   Munich|     DE|    overcast clouds|              13.09|      57|      0.89|48.1374| 11.5755|\n",
      "|2024-02-10_15-28-04|  Cologne|     DE|      broken clouds|              12.68|      77|      3.09|50.9333|    6.95|\n",
      "|2024-02-10_15-28-04|Frankfurt|     DE|         few clouds|              12.82|      81|      4.63|50.1167|  8.6833|\n",
      "|2024-02-10_15-28-04|     Bonn|     DE|      broken clouds|              12.08|      80|      3.09|50.7333|     7.1|\n",
      "|2024-02-10_15-28-04|Barcelona|     ES|         few clouds|              14.39|      61|      5.66|41.3888|   2.159|\n",
      "|2024-02-10_15-28-04|     Rome|     US|    overcast clouds|              14.29|      86|      2.24| 34.257|-85.1647|\n",
      "|2024-02-10_15-28-14|   Berlin|     DE|      broken clouds|              12.67|      91|      1.79|52.5244| 13.4105|\n",
      "|2024-02-10_15-28-14|   Munich|     DE|    overcast clouds|              13.09|      57|      0.89|48.1374| 11.5755|\n",
      "|2024-02-10_15-28-14|  Cologne|     DE|      broken clouds|              12.68|      77|      3.09|50.9333|    6.95|\n",
      "|2024-02-10_15-28-14|Frankfurt|     DE|         few clouds|              12.82|      81|      4.63|50.1167|  8.6833|\n",
      "|2024-02-10_15-28-14|     Bonn|     DE|      broken clouds|              12.08|      80|      3.09|50.7333|     7.1|\n",
      "|2024-02-10_15-28-14|Barcelona|     ES|         few clouds|              14.39|      61|      5.66|41.3888|   2.159|\n",
      "|2024-02-10_15-28-14|     Rome|     US|    overcast clouds|              14.29|      86|      2.24| 34.257|-85.1647|\n",
      "|2024-02-10_15-29-24|   Berlin|     DE|      broken clouds|              12.67|      91|      1.79|52.5244| 13.4105|\n",
      "|2024-02-10_15-29-24|   Munich|     DE|    overcast clouds|              13.09|      57|      0.89|48.1374| 11.5755|\n",
      "|2024-02-10_15-29-24|  Cologne|     DE|      broken clouds|              12.68|      77|      3.09|50.9333|    6.95|\n",
      "|2024-02-10_15-29-24|Frankfurt|     DE|         few clouds|              12.82|      81|      4.63|50.1167|  8.6833|\n",
      "|2024-02-10_15-29-24|     Bonn|     DE|      broken clouds|              12.07|      80|      3.09|50.7333|     7.1|\n",
      "|2024-02-10_15-29-24|Barcelona|     ES|         few clouds|              14.39|      61|      5.66|41.3888|   2.159|\n",
      "+-------------------+---------+-------+-------------------+-------------------+--------+----------+-------+--------+\n",
      "only showing top 20 rows\n",
      "\n"
     ]
    }
   ],
   "source": [
    "from pyspark.sql import functions as F\n",
    "\n",
    "df.filter(F.col(\"_timestamp\") > \"2024-01-01\").show()"
   ]
  },
  {
   "cell_type": "code",
   "execution_count": null,
   "metadata": {},
   "outputs": [],
   "source": []
  }
 ],
 "metadata": {
  "kernelspec": {
   "display_name": "DataEngineering",
   "language": "python",
   "name": "python3"
  },
  "language_info": {
   "codemirror_mode": {
    "name": "ipython",
    "version": 3
   },
   "file_extension": ".py",
   "mimetype": "text/x-python",
   "name": "python",
   "nbconvert_exporter": "python",
   "pygments_lexer": "ipython3",
   "version": "3.11.2"
  }
 },
 "nbformat": 4,
 "nbformat_minor": 2
}
